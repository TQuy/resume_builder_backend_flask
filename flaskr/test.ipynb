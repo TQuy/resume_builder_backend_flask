{
 "cells": [
  {
   "cell_type": "code",
   "execution_count": null,
   "metadata": {},
   "outputs": [],
   "source": [
    "from flaskr import create_app\n",
    "from flaskr.models import db, User\n",
    "\n",
    "app = create_app()\n",
    "with app.app_context():\n",
    "    db.create_all()\n",
    "    "
   ]
  },
  {
   "cell_type": "code",
   "execution_count": null,
   "metadata": {},
   "outputs": [],
   "source": [
    "with app.app_context():\n",
    "    quynt = User.query.first()\n",
    "    resume_1 = Resume(name='resume_1', user=quynt)\n",
    "    resume_2 = Resume(name='resume_2', user=quynt)\n",
    "    db.session.commit()\n",
    "\n",
    "with app.app_context():\n",
    "    db.session.execute(select(Resume.name, Resume.id).join(User).where(User.username=='quynt')).all()"
   ]
  }
 ],
 "metadata": {
  "interpreter": {
   "hash": "9fcc2c2d82ac0a8c211b32836461dd9804a7379233cdde1a83ef10d8885ff31d"
  },
  "kernelspec": {
   "display_name": "Python 3.8.10 ('venv_sqlalchemy_tutorial': venv)",
   "language": "python",
   "name": "python3"
  },
  "language_info": {
   "name": "python",
   "version": "3.8.10"
  },
  "orig_nbformat": 4
 },
 "nbformat": 4,
 "nbformat_minor": 2
}
